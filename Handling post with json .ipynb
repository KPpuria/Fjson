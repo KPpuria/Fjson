{
 "cells": [
  {
   "cell_type": "code",
   "execution_count": null,
   "metadata": {
    "collapsed": true
   },
   "outputs": [],
   "source": [
    "from flask import FLask , render_template, request, jsonify\n",
    "import json, hashlib\n",
    "\n",
    "app = Flask(__name__)\n",
    "\n",
    "@app.route('/', methods = ['POST'])\n",
    "def get_data():\n",
    "    #getting data... request.form for html\n",
    "    jsondata = request.data['jsondata']\n",
    "    #converting to python ds\n",
    "    data = json.loads(jsondata)\n",
    "    m = hashlib.md5()\n",
    "    m.update(data)\n",
    "    r = m.hexdigest()\n",
    "    # return in json with  'return jsonify(results = variable)'\n",
    "    return jsonify(results = r)\n",
    "\n",
    "if __name__ = '__main__':\n",
    "    app.run()\n",
    "\n"
   ]
  }
 ],
 "metadata": {
  "kernelspec": {
   "display_name": "Python 3",
   "language": "python",
   "name": "python3"
  },
  "language_info": {
   "codemirror_mode": {
    "name": "ipython",
    "version": 3
   },
   "file_extension": ".py",
   "mimetype": "text/x-python",
   "name": "python",
   "nbconvert_exporter": "python",
   "pygments_lexer": "ipython3",
   "version": "3.6.1"
  }
 },
 "nbformat": 4,
 "nbformat_minor": 2
}
